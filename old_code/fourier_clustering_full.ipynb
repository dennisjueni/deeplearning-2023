{
 "cells": [
  {
   "cell_type": "code",
   "execution_count": null,
   "metadata": {},
   "outputs": [],
   "source": [
    "import numpy as np\n",
    "import torch\n",
    "from sklearn.cluster import KMeans\n",
    "from torchvision.models import resnet18\n",
    "\n",
    "def dft(weights):\n",
    "    ffts = []\n",
    "    for i in range(weights.shape[0]):\n",
    "        ffts.append([])\n",
    "        for j in range(weights.shape[1]):\n",
    "            ffts[i].append(np.fft.fft2(weights[i][j]))\n",
    "    ffts = np.array(ffts)\n",
    "    return np.real(ffts), np.imag(ffts)\n",
    "\n",
    "def get_dfts_models():\n",
    "    dfts = []\n",
    "    for i in range(19):\n",
    "        for j in range(i+1,20):\n",
    "            model = torch.load(f\"/kaggle/input/models/models/model_{i}_{j}.pt\",map_location=torch.device('cpu'))\n",
    "            dfr, _ = dft(model[\"conv1.weight\"])\n",
    "            dfr_r = np.reshape(dfr, (64,3*7*7))\n",
    "            dfts.append(dfr_r)\n",
    "    return np.array(dfts)\n",
    "\n",
    "def inverse_dft(cluster_results):\n",
    "    weights = []\n",
    "    for i in range(cluster_results.shape[0]):\n",
    "        ws = []\n",
    "        for j in range(3):\n",
    "            w = cluster_results[i][j*49:(j+1)*49]\n",
    "            ws.append(np.real(np.fft.ifft2(np.reshape(w,(7,7)))))\n",
    "        weights.append(np.array(ws))\n",
    "    return np.array(weights)\n",
    "\n",
    "dfts = get_dfts_models()\n",
    "dfts_r = np.reshape(dfts, (dfts.shape[0]*dfts.shape[1], dfts.shape[2]))\n",
    "kmeans = KMeans(n_clusters = 64, n_init='auto').fit(dfts_r)\n",
    "final_weights = inverse_dft(kmeans.cluster_centers_)\n",
    "crn = resnet18(10)\n",
    "crn.conv1.weight = torch.nn.Parameter(torch.tensor(final_weights))"
   ]
  }
 ],
 "metadata": {
  "language_info": {
   "name": "python"
  }
 },
 "nbformat": 4,
 "nbformat_minor": 2
}
